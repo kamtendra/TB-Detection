{
 "cells": [
  {
   "cell_type": "code",
   "execution_count": 12,
   "metadata": {
    "id": "MJ3XmOhuR1DE"
   },
   "outputs": [],
   "source": [
    "import numpy as np\n",
    "import tensorflow\n",
    "from keras.models import load_model\n",
    "from keras.preprocessing import image\n",
    "import  matplotlib.pyplot as plt\n",
    "import os\n",
    "import cv2"
   ]
  },
  {
   "cell_type": "code",
   "execution_count": 13,
   "metadata": {
    "id": "nswsz8JQcTvC"
   },
   "outputs": [],
   "source": [
    "model_path = 'C:/Users/kamte/Desktop/TB detection/TB detect model'"
   ]
  },
  {
   "cell_type": "code",
   "execution_count": 14,
   "metadata": {
    "colab": {
     "base_uri": "https://localhost:8080/"
    },
    "id": "uufF3NlOTXdm",
    "outputId": "e81901e0-dbfd-4897-ef98-78fb563756b6"
   },
   "outputs": [
    {
     "name": "stdout",
     "output_type": "stream",
     "text": [
      "Model: \"sequential_1\"\n",
      "_________________________________________________________________\n",
      " Layer (type)                Output Shape              Param #   \n",
      "=================================================================\n",
      " sequential (Sequential)     (None, 28, 28, 3)         0         \n",
      "                                                                 \n",
      " conv2d (Conv2D)             (None, 26, 26, 28)        784       \n",
      "                                                                 \n",
      " max_pooling2d (MaxPooling2D  (None, 13, 13, 28)       0         \n",
      " )                                                               \n",
      "                                                                 \n",
      " conv2d_1 (Conv2D)           (None, 11, 11, 64)        16192     \n",
      "                                                                 \n",
      " max_pooling2d_1 (MaxPooling  (None, 5, 5, 64)         0         \n",
      " 2D)                                                             \n",
      "                                                                 \n",
      " conv2d_2 (Conv2D)           (None, 3, 3, 64)          36928     \n",
      "                                                                 \n",
      " flatten (Flatten)           (None, 576)               0         \n",
      "                                                                 \n",
      " dense (Dense)               (None, 640)               369280    \n",
      "                                                                 \n",
      " dropout (Dropout)           (None, 640)               0         \n",
      "                                                                 \n",
      " dense_1 (Dense)             (None, 564)               361524    \n",
      "                                                                 \n",
      " dropout_1 (Dropout)         (None, 564)               0         \n",
      "                                                                 \n",
      " dense_2 (Dense)             (None, 64)                36160     \n",
      "                                                                 \n",
      " dense_3 (Dense)             (None, 64)                4160      \n",
      "                                                                 \n",
      " dense_4 (Dense)             (None, 2)                 130       \n",
      "                                                                 \n",
      "=================================================================\n",
      "Total params: 825,158\n",
      "Trainable params: 825,158\n",
      "Non-trainable params: 0\n",
      "_________________________________________________________________\n"
     ]
    }
   ],
   "source": [
    "model = load_model(model_path)\n",
    "model.summary()"
   ]
  },
  {
   "cell_type": "code",
   "execution_count": 16,
   "metadata": {
    "id": "OJixypG8fc0q"
   },
   "outputs": [],
   "source": [
    "def load_img(image_path):\n",
    "  test_data = []\n",
    "  image=image_path\n",
    "  img = cv2.imread(str(image))\n",
    "  img = cv2.resize(img, (28,28))\n",
    "  if img.shape[2] ==1:\n",
    "    img = np.dstack([img, img, img])\n",
    "  img = cv2.cvtColor(img, cv2.COLOR_BGR2RGB)\n",
    "  img=np.array(img)\n",
    "  img = img/255\n",
    "  test_data.append(img)\n",
    "  test_data1 = np.array(test_data)\n",
    "  return test_data1"
   ]
  },
  {
   "cell_type": "code",
   "execution_count": 17,
   "metadata": {
    "id": "nvP0ylqqgpHJ"
   },
   "outputs": [],
   "source": [
    "def predict_label(image_path):\n",
    "  image = load_img(image_path)\n",
    "  predict_model = model.predict(np.array(image))\n",
    "  if np.argmax(predict_model) == 1:\n",
    "    return \"Tuberculosis\"\n",
    "  else:\n",
    "    return \"Normal\""
   ]
  },
  {
   "cell_type": "code",
   "execution_count": 22,
   "metadata": {
    "colab": {
     "base_uri": "https://localhost:8080/",
     "height": 55
    },
    "id": "ESog518_gnOZ",
    "outputId": "f1a986ed-6299-4957-ec98-f0e2642bc5c7"
   },
   "outputs": [
    {
     "name": "stdout",
     "output_type": "stream",
     "text": [
      "1/1 [==============================] - 0s 19ms/step\n"
     ]
    },
    {
     "data": {
      "text/plain": [
       "'Tuberculosis'"
      ]
     },
     "execution_count": 22,
     "metadata": {},
     "output_type": "execute_result"
    }
   ],
   "source": [
    "predict_label('Tuberculosis-1.png')"
   ]
  },
  {
   "cell_type": "code",
   "execution_count": null,
   "metadata": {
    "id": "_pdKUPCvoDFn"
   },
   "outputs": [],
   "source": []
  },
  {
   "cell_type": "code",
   "execution_count": null,
   "metadata": {},
   "outputs": [],
   "source": []
  },
  {
   "cell_type": "code",
   "execution_count": null,
   "metadata": {},
   "outputs": [],
   "source": []
  }
 ],
 "metadata": {
  "accelerator": "GPU",
  "colab": {
   "provenance": []
  },
  "gpuClass": "standard",
  "kernelspec": {
   "display_name": "Python 3 (ipykernel)",
   "language": "python",
   "name": "python3"
  },
  "language_info": {
   "codemirror_mode": {
    "name": "ipython",
    "version": 3
   },
   "file_extension": ".py",
   "mimetype": "text/x-python",
   "name": "python",
   "nbconvert_exporter": "python",
   "pygments_lexer": "ipython3",
   "version": "3.10.9"
  }
 },
 "nbformat": 4,
 "nbformat_minor": 1
}
